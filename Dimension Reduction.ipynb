{
 "cells": [
  {
   "cell_type": "markdown",
   "metadata": {},
   "source": [
    "## PCA"
   ]
  },
  {
   "cell_type": "markdown",
   "metadata": {},
   "source": [
    "-Reducing the number of independent variables \n",
    "-Transforms large set of variables into smaller ones\n",
    "-PCA is an unsupervised technique. Only deals with independent variables"
   ]
  },
  {
   "cell_type": "code",
   "execution_count": 47,
   "metadata": {},
   "outputs": [],
   "source": [
    "# Importing libraries\n",
    "import numpy as np\n",
    "import pandas as pd\n",
    "import matplotlib.pyplot as plt"
   ]
  },
  {
   "cell_type": "code",
   "execution_count": 48,
   "metadata": {},
   "outputs": [],
   "source": [
    "# Importing dataset\n",
    "dataset = pd.read_csv(\"C:/Users/Mishaal/Desktop/wine.csv\")\n",
    "X = dataset.iloc[:, 1:13].values\n",
    "Y = dataset.iloc[:, 0].values"
   ]
  },
  {
   "cell_type": "code",
   "execution_count": 28,
   "metadata": {},
   "outputs": [
    {
     "data": {
      "text/plain": [
       "array([1, 1, 1, 1, 1, 1, 1, 1, 1, 1, 1, 1, 1, 1, 1, 1, 1, 1, 1, 1, 1, 1,\n",
       "       1, 1, 1, 1, 1, 1, 1, 1, 1, 1, 1, 1, 1, 1, 1, 1, 1, 1, 1, 1, 1, 1,\n",
       "       1, 1, 1, 1, 1, 1, 1, 1, 1, 1, 1, 1, 1, 1, 1, 2, 2, 2, 2, 2, 2, 2,\n",
       "       2, 2, 2, 2, 2, 2, 2, 2, 2, 2, 2, 2, 2, 2, 2, 2, 2, 2, 2, 2, 2, 2,\n",
       "       2, 2, 2, 2, 2, 2, 2, 2, 2, 2, 2, 2, 2, 2, 2, 2, 2, 2, 2, 2, 2, 2,\n",
       "       2, 2, 2, 2, 2, 2, 2, 2, 2, 2, 2, 2, 2, 2, 2, 2, 2, 2, 2, 2, 3, 3,\n",
       "       3, 3, 3, 3, 3, 3, 3, 3, 3, 3, 3, 3, 3, 3, 3, 3, 3, 3, 3, 3, 3, 3,\n",
       "       3, 3, 3, 3, 3, 3, 3, 3, 3, 3, 3, 3, 3, 3, 3, 3, 3, 3, 3, 3, 3, 3,\n",
       "       3, 3], dtype=int64)"
      ]
     },
     "execution_count": 28,
     "metadata": {},
     "output_type": "execute_result"
    }
   ],
   "source": [
    "Y"
   ]
  },
  {
   "cell_type": "code",
   "execution_count": 49,
   "metadata": {},
   "outputs": [],
   "source": [
    "# Split dataset into train and test set\n",
    "from sklearn.model_selection import train_test_split\n",
    "X_train, X_test, Y_train, Y_test = train_test_split(X,Y,test_size=0.20,\n",
    "                                                    random_state=0)"
   ]
  },
  {
   "cell_type": "code",
   "execution_count": 50,
   "metadata": {},
   "outputs": [],
   "source": [
    "#To apply PCA we need to do feature scaling\n",
    "# Feature Scaling\n",
    "from sklearn.preprocessing import StandardScaler\n",
    "sc = StandardScaler()\n",
    "X_train = sc.fit_transform(X_train)\n",
    "X_test = sc.transform(X_test)"
   ]
  },
  {
   "cell_type": "code",
   "execution_count": 42,
   "metadata": {},
   "outputs": [],
   "source": [
    "#We need to apply PCA before training machine learning model\n",
    "# Apply PCA\n",
    "from sklearn.decomposition import PCA \n",
    "pca = PCA(n_components=2) \n",
    "X_train = pca.fit_transform(X_train)\n",
    "X_test = pca.transform(X_test)\n",
    "explained_variance = pca.explained_variance_ratio_"
   ]
  },
  {
   "cell_type": "code",
   "execution_count": 44,
   "metadata": {},
   "outputs": [
    {
     "data": {
      "text/plain": [
       "array([[ 2.30317865,  0.72120942],\n",
       "       [ 1.50125114, -1.74890507],\n",
       "       [-1.68280433, -1.53807739],\n",
       "       [ 2.78828739,  1.26175078],\n",
       "       [-1.85009439,  0.03356869],\n",
       "       [-2.07553555,  1.31871298],\n",
       "       [-1.50394301, -1.52623299],\n",
       "       [ 0.06227149, -2.4606764 ],\n",
       "       [-0.17521639, -1.99866167],\n",
       "       [-2.00252398,  1.4798327 ],\n",
       "       [ 3.06337672, -0.41119091],\n",
       "       [-2.03292557, -1.0645345 ],\n",
       "       [ 2.41275753,  0.37142985],\n",
       "       [-1.59577254,  2.27963348],\n",
       "       [ 2.21411813, -0.00952229],\n",
       "       [ 2.9981378 , -0.20119239],\n",
       "       [-2.57454569,  1.41167475],\n",
       "       [ 1.389568  ,  3.77713828],\n",
       "       [-2.44502856,  0.09416406],\n",
       "       [-0.79160824, -1.78176155],\n",
       "       [ 3.08236363,  2.02792506],\n",
       "       [ 2.73364551, -0.21252648],\n",
       "       [-2.19501714,  0.07901316],\n",
       "       [ 2.74892255,  0.15465634],\n",
       "       [ 2.91575906,  1.74590938],\n",
       "       [-0.92701029, -0.6637807 ],\n",
       "       [ 2.2986043 , -0.2431242 ],\n",
       "       [ 2.22490988, -1.00566457],\n",
       "       [-1.70645604, -2.05361493],\n",
       "       [ 1.9488863 , -1.47693591],\n",
       "       [ 2.6045069 ,  0.08929193],\n",
       "       [-0.35636096, -1.37718268],\n",
       "       [-2.17887003,  1.25838973],\n",
       "       [ 0.3400456 , -3.59533434],\n",
       "       [-2.48660154,  0.47009224],\n",
       "       [ 0.3162577 , -0.42742464],\n",
       "       [-0.58250209,  0.63696205],\n",
       "       [-2.86477754,  1.163233  ],\n",
       "       [-1.95334132, -0.8570932 ],\n",
       "       [-2.53846235,  0.73215624],\n",
       "       [ 3.57759407,  0.24728611],\n",
       "       [ 1.7879962 ,  2.46742843],\n",
       "       [-1.86997543, -0.65899428],\n",
       "       [-0.57468176, -1.62130174],\n",
       "       [-0.38228285, -2.70531063],\n",
       "       [ 2.6614603 ,  2.21913209],\n",
       "       [ 2.97857937, -0.83558211],\n",
       "       [-2.98750318,  0.33264686],\n",
       "       [ 3.80007857,  1.16916322],\n",
       "       [ 0.0315187 , -2.65246473],\n",
       "       [-0.02029727, -1.6864858 ],\n",
       "       [ 0.67355376, -0.13127235],\n",
       "       [-1.58986363, -0.3968442 ],\n",
       "       [-2.24944997, -1.2677586 ],\n",
       "       [-2.20981191,  1.74818414],\n",
       "       [-1.72196502,  1.42197008],\n",
       "       [-1.36635739, -1.61607931],\n",
       "       [-3.11496251,  1.51663756],\n",
       "       [ 3.88166132, -0.69658512],\n",
       "       [-1.61640989, -0.53030788],\n",
       "       [ 3.45552024,  0.40475392],\n",
       "       [-3.12538801,  1.48167676],\n",
       "       [-1.78534098,  1.47649239],\n",
       "       [-1.41869544, -0.7129477 ],\n",
       "       [-3.10824416,  1.95269517],\n",
       "       [-1.22600932, -2.41646022],\n",
       "       [-0.98313678, -1.90502832],\n",
       "       [-2.99045007,  2.86064976],\n",
       "       [ 2.74206078,  1.59426699],\n",
       "       [ 1.19169302, -1.42167349],\n",
       "       [-1.97174081,  1.032037  ],\n",
       "       [ 0.72249991, -0.60292379],\n",
       "       [ 0.25274286, -2.55273732],\n",
       "       [-1.29364911, -0.96193964],\n",
       "       [ 1.20436873, -0.23473175],\n",
       "       [-1.69171852,  0.3921714 ],\n",
       "       [ 3.79165184,  0.27736679],\n",
       "       [ 1.68165454,  1.68446654],\n",
       "       [-3.55212296,  2.14588262],\n",
       "       [-3.00488026,  1.83566449],\n",
       "       [ 1.04917136, -1.88448928],\n",
       "       [ 2.98075457,  1.67323519],\n",
       "       [-2.46392044,  1.57007566],\n",
       "       [-1.35860154,  0.20556369],\n",
       "       [ 0.0475929 , -2.15439037],\n",
       "       [-0.33641756, -0.72391152],\n",
       "       [-1.87715502,  0.46741725],\n",
       "       [-1.75096656,  1.11442956],\n",
       "       [-0.53832334, -0.01921673],\n",
       "       [ 3.62435079,  1.59020763],\n",
       "       [-1.15650645, -0.44847893],\n",
       "       [-2.11920666, -0.41510986],\n",
       "       [-1.14766565, -0.96696187],\n",
       "       [ 2.23457924,  0.26815   ],\n",
       "       [-2.80206261,  1.51136643],\n",
       "       [ 1.15954737, -1.52718383],\n",
       "       [ 2.77890268, -0.26232645],\n",
       "       [ 2.7079191 , -0.2412189 ],\n",
       "       [-1.53181223,  1.68470947],\n",
       "       [-1.49390486, -0.97217606],\n",
       "       [ 2.00706638, -0.00822272],\n",
       "       [-1.62185249,  1.63683967],\n",
       "       [ 2.2287821 ,  0.02890084],\n",
       "       [-0.1892405 , -1.4254565 ],\n",
       "       [-1.16765073,  0.57399953],\n",
       "       [-2.10826831,  1.13324684],\n",
       "       [-0.14516996, -1.53242542],\n",
       "       [-2.03106772,  1.10161964],\n",
       "       [ 2.96838604,  1.64855668],\n",
       "       [ 1.11353395, -0.96469909],\n",
       "       [ 3.62131371,  0.50152337],\n",
       "       [-1.53654378,  0.09977162],\n",
       "       [ 2.82998695,  0.13105119],\n",
       "       [ 2.36920499,  2.21210103],\n",
       "       [ 3.62198526,  0.70679717],\n",
       "       [-2.10428048,  0.29838182],\n",
       "       [-2.07626357, -1.24373651],\n",
       "       [ 0.00635456, -2.38354815],\n",
       "       [-0.86180493, -0.35032908],\n",
       "       [-1.35124637, -3.38072458],\n",
       "       [ 2.90578593,  1.12317375],\n",
       "       [ 3.38414679,  2.56213573],\n",
       "       [ 0.28904199, -0.92556677],\n",
       "       [ 1.0266636 , -1.57022247],\n",
       "       [-0.94932154,  1.36247883],\n",
       "       [-1.34937457, -1.23518371],\n",
       "       [ 3.03285668,  0.61513149],\n",
       "       [ 2.5491713 ,  2.42133544],\n",
       "       [-2.41647001,  2.52169949],\n",
       "       [-2.65324299,  1.86097714],\n",
       "       [ 2.67105107, -0.16587926],\n",
       "       [ 0.75159673, -1.99191916],\n",
       "       [ 1.51474979, -1.63604536],\n",
       "       [ 0.00664624, -2.25694813],\n",
       "       [-1.31137117,  0.82502119],\n",
       "       [-1.15445245,  0.61989117],\n",
       "       [-2.54137318,  1.0361282 ],\n",
       "       [-0.02209907, -2.53405498],\n",
       "       [-0.76004335, -2.28817414],\n",
       "       [-0.5488294 , -1.49571245],\n",
       "       [-2.68177758,  1.01902554],\n",
       "       [ 2.66999726,  1.77291945]])"
      ]
     },
     "execution_count": 44,
     "metadata": {},
     "output_type": "execute_result"
    }
   ],
   "source": [
    "X_train"
   ]
  },
  {
   "cell_type": "code",
   "execution_count": 43,
   "metadata": {},
   "outputs": [
    {
     "data": {
      "text/plain": [
       "array([0.67239785, 0.32760215])"
      ]
     },
     "execution_count": 43,
     "metadata": {},
     "output_type": "execute_result"
    }
   ],
   "source": [
    "explained_variance"
   ]
  },
  {
   "cell_type": "code",
   "execution_count": null,
   "metadata": {},
   "outputs": [],
   "source": [
    "pca.explained_variance_ratio_"
   ]
  },
  {
   "cell_type": "code",
   "execution_count": 33,
   "metadata": {},
   "outputs": [
    {
     "data": {
      "text/plain": [
       "LogisticRegression(C=1.0, class_weight=None, dual=False, fit_intercept=True,\n",
       "                   intercept_scaling=1, l1_ratio=None, max_iter=100,\n",
       "                   multi_class='multinomial', n_jobs=None, penalty='l2',\n",
       "                   random_state=0, solver='lbfgs', tol=0.0001, verbose=0,\n",
       "                   warm_start=False)"
      ]
     },
     "execution_count": 33,
     "metadata": {},
     "output_type": "execute_result"
    }
   ],
   "source": [
    "# Fitting Logistic Regression to Training set\n",
    "from sklearn.linear_model import LogisticRegression\n",
    "classifier = LogisticRegression(random_state=0, solver='lbfgs', multi_class='multinomial')\n",
    "classifier.fit(X_train, Y_train)"
   ]
  },
  {
   "cell_type": "code",
   "execution_count": 34,
   "metadata": {},
   "outputs": [],
   "source": [
    "# Predicting Test set results\n",
    "Y_pred = classifier.predict(X_test)"
   ]
  },
  {
   "cell_type": "code",
   "execution_count": 45,
   "metadata": {},
   "outputs": [],
   "source": [
    "# Confusion Matrix\n",
    "from sklearn.metrics import confusion_matrix\n",
    "cm = confusion_matrix(Y_test, Y_pred)"
   ]
  },
  {
   "cell_type": "code",
   "execution_count": 46,
   "metadata": {},
   "outputs": [
    {
     "data": {
      "text/plain": [
       "array([[13,  1,  0],\n",
       "       [ 1, 15,  0],\n",
       "       [ 0,  0,  6]], dtype=int64)"
      ]
     },
     "execution_count": 46,
     "metadata": {},
     "output_type": "execute_result"
    }
   ],
   "source": [
    "cm"
   ]
  },
  {
   "cell_type": "markdown",
   "metadata": {},
   "source": [
    "## Linear Discriminant Analysis (LDA)"
   ]
  },
  {
   "cell_type": "markdown",
   "metadata": {},
   "source": [
    "-Reduce the dimentionality of Large datasets\n",
    "-Supervised learning, deals with both dependent and independent variables "
   ]
  },
  {
   "cell_type": "code",
   "execution_count": 51,
   "metadata": {},
   "outputs": [],
   "source": [
    "# Linear Discriminant Analysis (LDA)\n",
    "# Apply LDA\n",
    "from sklearn.discriminant_analysis import LinearDiscriminantAnalysis as LDA\n",
    "lda = LDA(n_components=2)\n",
    "X_train = lda.fit_transform(X_train, Y_train) #supervised technique add both x_train,Y_train\n",
    "X_test = lda.transform(X_test)\n",
    "explained_variance = lda.explained_variance_ratio_"
   ]
  },
  {
   "cell_type": "code",
   "execution_count": 54,
   "metadata": {},
   "outputs": [
    {
     "data": {
      "text/plain": [
       "array([0.76606459, 0.23393541])"
      ]
     },
     "execution_count": 54,
     "metadata": {},
     "output_type": "execute_result"
    }
   ],
   "source": [
    "explained_variance"
   ]
  },
  {
   "cell_type": "code",
   "execution_count": 52,
   "metadata": {},
   "outputs": [],
   "source": [
    "# Fitting Logistic Regression to Training set\n",
    "from sklearn.linear_model import LogisticRegression\n",
    "classifier = LogisticRegression(random_state=0, solver='lbfgs', multi_class='multinomial')\n",
    "classifier.fit(X_train, Y_train)\n",
    "\n",
    "# Predicting Test set results\n",
    "Y_pred = classifier.predict(X_test)\n",
    "\n",
    "# Confusion Matrix\n",
    "from sklearn.metrics import confusion_matrix\n",
    "cm = confusion_matrix(Y_test, Y_pred)"
   ]
  },
  {
   "cell_type": "code",
   "execution_count": 53,
   "metadata": {},
   "outputs": [
    {
     "data": {
      "text/plain": [
       "array([[14,  0,  0],\n",
       "       [ 1, 15,  0],\n",
       "       [ 0,  0,  6]], dtype=int64)"
      ]
     },
     "execution_count": 53,
     "metadata": {},
     "output_type": "execute_result"
    }
   ],
   "source": [
    "cm"
   ]
  }
 ],
 "metadata": {
  "kernelspec": {
   "display_name": "Python 3",
   "language": "python",
   "name": "python3"
  },
  "language_info": {
   "codemirror_mode": {
    "name": "ipython",
    "version": 3
   },
   "file_extension": ".py",
   "mimetype": "text/x-python",
   "name": "python",
   "nbconvert_exporter": "python",
   "pygments_lexer": "ipython3",
   "version": "3.7.3"
  }
 },
 "nbformat": 4,
 "nbformat_minor": 2
}
