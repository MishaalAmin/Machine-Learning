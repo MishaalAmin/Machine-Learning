{
 "cells": [
  {
   "cell_type": "markdown",
   "metadata": {},
   "source": [
    "# Logistic Regression"
   ]
  },
  {
   "cell_type": "code",
   "execution_count": 87,
   "metadata": {},
   "outputs": [],
   "source": [
    "# Data Pre-processing\n",
    "# Importing libraries\n",
    "import numpy as np\n",
    "import pandas as pd\n",
    "import matplotlib.pyplot as plt"
   ]
  },
  {
   "cell_type": "code",
   "execution_count": 88,
   "metadata": {},
   "outputs": [],
   "source": [
    "# Importing dataset\n",
    "dataset = pd.read_csv(\"C:/Users/Mishaal/Desktop/customer.csv\")\n",
    "X = dataset.iloc[:, 2:4].values\n",
    "Y = dataset.iloc[:, 4].values"
   ]
  },
  {
   "cell_type": "code",
   "execution_count": 89,
   "metadata": {},
   "outputs": [],
   "source": [
    "# Split dataset into train and test set\n",
    "from sklearn.model_selection import train_test_split\n",
    "X_train, X_test, Y_train, Y_test = train_test_split(X,Y,test_size=0.25,random_state=0)"
   ]
  },
  {
   "cell_type": "code",
   "execution_count": 60,
   "metadata": {},
   "outputs": [],
   "source": [
    "# Feature Scaling\n",
    "from sklearn.preprocessing import StandardScaler\n",
    "sc = StandardScaler()\n",
    "X_train = sc.fit_transform(X_train)\n",
    "X_test = sc.transform(X_test)"
   ]
  },
  {
   "cell_type": "code",
   "execution_count": 9,
   "metadata": {},
   "outputs": [
    {
     "data": {
      "text/plain": [
       "LogisticRegression(C=1.0, class_weight=None, dual=False, fit_intercept=True,\n",
       "                   intercept_scaling=1, l1_ratio=None, max_iter=100,\n",
       "                   multi_class='warn', n_jobs=None, penalty='l2',\n",
       "                   random_state=0, solver='lbfgs', tol=0.0001, verbose=0,\n",
       "                   warm_start=False)"
      ]
     },
     "execution_count": 9,
     "metadata": {},
     "output_type": "execute_result"
    }
   ],
   "source": [
    "# Fitting Logistic Regression to Training set\n",
    "from sklearn.linear_model import LogisticRegression\n",
    "classifier = LogisticRegression(random_state=0, solver='lbfgs') #solver is an optimization alogrithm\n",
    "classifier.fit(X_train, Y_train)"
   ]
  },
  {
   "cell_type": "code",
   "execution_count": 11,
   "metadata": {},
   "outputs": [
    {
     "data": {
      "text/plain": [
       "array([0, 0, 0, 0, 0, 0, 0, 1, 0, 1, 0, 0, 0, 0, 0, 0, 0, 0, 1, 0, 0, 1,\n",
       "       0, 1, 0, 1, 0, 0, 0, 0, 0, 0, 1, 0, 0, 0, 0, 0, 0, 1, 0, 0, 0, 0,\n",
       "       1, 0, 0, 1, 0, 1, 1, 0, 0, 0, 1, 0, 0, 0, 0, 0, 0, 1, 0, 0, 0, 1,\n",
       "       0, 0, 0, 0, 1, 0, 0, 0, 0, 0, 1, 0, 1, 1, 1, 1, 0, 0, 1, 1, 0, 1,\n",
       "       0, 0, 0, 1, 0, 0, 0, 0, 0, 0, 1, 1], dtype=int64)"
      ]
     },
     "execution_count": 11,
     "metadata": {},
     "output_type": "execute_result"
    }
   ],
   "source": [
    "# Predicting Test set results\n",
    "Y_pred = classifier.predict(X_test)\n",
    "Y_pred"
   ]
  },
  {
   "cell_type": "code",
   "execution_count": 13,
   "metadata": {},
   "outputs": [
    {
     "data": {
      "text/plain": [
       "array([[0.88725351, 0.11274649],\n",
       "       [0.83324206, 0.16675794],\n",
       "       [0.80549253, 0.19450747],\n",
       "       [0.91056209, 0.08943791],\n",
       "       [0.90253903, 0.09746097],\n",
       "       [0.99212979, 0.00787021],\n",
       "       [0.9848589 , 0.0151411 ],\n",
       "       [0.26779092, 0.73220908],\n",
       "       [0.99419108, 0.00580892],\n",
       "       [0.49579544, 0.50420456],\n",
       "       [0.96395406, 0.03604594],\n",
       "       [0.97081333, 0.02918667],\n",
       "       [0.83936154, 0.16063846],\n",
       "       [0.63040685, 0.36959315],\n",
       "       [0.98450737, 0.01549263],\n",
       "       [0.66506265, 0.33493735],\n",
       "       [0.72016534, 0.27983466],\n",
       "       [0.98774666, 0.01225334],\n",
       "       [0.01139953, 0.98860047],\n",
       "       [0.95799724, 0.04200276],\n",
       "       [0.91070984, 0.08929016],\n",
       "       [0.03668135, 0.96331865],\n",
       "       [0.72304389, 0.27695611],\n",
       "       [0.11787963, 0.88212037],\n",
       "       [0.99551213, 0.00448787],\n",
       "       [0.02704431, 0.97295569],\n",
       "       [0.92232099, 0.07767901],\n",
       "       [0.92371914, 0.07628086],\n",
       "       [0.80661256, 0.19338744],\n",
       "       [0.84341507, 0.15658493],\n",
       "       [0.97980137, 0.02019863],\n",
       "       [0.70700864, 0.29299136],\n",
       "       [0.06782035, 0.93217965],\n",
       "       [0.84785394, 0.15214606],\n",
       "       [0.98566324, 0.01433676],\n",
       "       [0.99652123, 0.00347877],\n",
       "       [0.98018715, 0.01981285],\n",
       "       [0.93442624, 0.06557376],\n",
       "       [0.97244034, 0.02755966],\n",
       "       [0.44947292, 0.55052708],\n",
       "       [0.93387384, 0.06612616],\n",
       "       [0.71655153, 0.28344847],\n",
       "       [0.94139491, 0.05860509],\n",
       "       [0.96051284, 0.03948716],\n",
       "       [0.19538951, 0.80461049],\n",
       "       [0.97375051, 0.02624949],\n",
       "       [0.7002962 , 0.2997038 ],\n",
       "       [0.07188441, 0.92811559],\n",
       "       [0.99116814, 0.00883186],\n",
       "       [0.14035391, 0.85964609],\n",
       "       [0.00979045, 0.99020955],\n",
       "       [0.96217391, 0.03782609],\n",
       "       [0.88084143, 0.11915857],\n",
       "       [0.58394773, 0.41605227],\n",
       "       [0.01920237, 0.98079763],\n",
       "       [0.67887409, 0.32112591],\n",
       "       [0.91662981, 0.08337019],\n",
       "       [0.95734278, 0.04265722],\n",
       "       [0.51367858, 0.48632142],\n",
       "       [0.99652752, 0.00347248],\n",
       "       [0.97962483, 0.02037517],\n",
       "       [0.06548521, 0.93451479],\n",
       "       [0.99080034, 0.00919966],\n",
       "       [0.6089113 , 0.3910887 ],\n",
       "       [0.99814664, 0.00185336],\n",
       "       [0.01837828, 0.98162172],\n",
       "       [0.96204152, 0.03795848],\n",
       "       [0.97375051, 0.02624949],\n",
       "       [0.78482933, 0.21517067],\n",
       "       [0.53552032, 0.46447968],\n",
       "       [0.40700336, 0.59299664],\n",
       "       [0.79520675, 0.20479325],\n",
       "       [0.98880303, 0.01119697],\n",
       "       [0.74469446, 0.25530554],\n",
       "       [0.93185794, 0.06814206],\n",
       "       [0.99091371, 0.00908629],\n",
       "       [0.46321694, 0.53678306],\n",
       "       [0.70589942, 0.29410058],\n",
       "       [0.2766666 , 0.7233334 ],\n",
       "       [0.11134787, 0.88865213],\n",
       "       [0.00394886, 0.99605114],\n",
       "       [0.02248034, 0.97751966],\n",
       "       [0.98696583, 0.01303417],\n",
       "       [0.98964178, 0.01035822],\n",
       "       [0.10734812, 0.89265188],\n",
       "       [0.45522288, 0.54477712],\n",
       "       [0.5969289 , 0.4030711 ],\n",
       "       [0.0050397 , 0.9949603 ],\n",
       "       [0.56296967, 0.43703033],\n",
       "       [0.66147882, 0.33852118],\n",
       "       [0.58308908, 0.41691092],\n",
       "       [0.21824871, 0.78175129],\n",
       "       [0.99149077, 0.00850923],\n",
       "       [0.99207365, 0.00792635],\n",
       "       [0.96750141, 0.03249859],\n",
       "       [0.91608066, 0.08391934],\n",
       "       [0.98628144, 0.01371856],\n",
       "       [0.52483762, 0.47516238],\n",
       "       [0.14989075, 0.85010925],\n",
       "       [0.27844761, 0.72155239]])"
      ]
     },
     "execution_count": 13,
     "metadata": {},
     "output_type": "execute_result"
    }
   ],
   "source": [
    "var_prob = classifier.predict_proba(X_test)\n",
    "var_prob"
   ]
  },
  {
   "cell_type": "code",
   "execution_count": 15,
   "metadata": {},
   "outputs": [
    {
     "data": {
      "text/plain": [
       "array([0.88725351, 0.11274649])"
      ]
     },
     "execution_count": 15,
     "metadata": {},
     "output_type": "execute_result"
    }
   ],
   "source": [
    "var_prob[0,:]"
   ]
  },
  {
   "cell_type": "code",
   "execution_count": 20,
   "metadata": {},
   "outputs": [],
   "source": [
    "# Confusion Matrix\n",
    "from sklearn.metrics import confusion_matrix\n",
    "cm = confusion_matrix(Y_test, Y_pred) #actual vs predicted"
   ]
  },
  {
   "cell_type": "code",
   "execution_count": 19,
   "metadata": {},
   "outputs": [
    {
     "name": "stdout",
     "output_type": "stream",
     "text": [
      "[[65  3]\n",
      " [ 8 24]]\n"
     ]
    }
   ],
   "source": [
    "print(cm) "
   ]
  },
  {
   "cell_type": "markdown",
   "metadata": {},
   "source": [
    "# KNN"
   ]
  },
  {
   "cell_type": "code",
   "execution_count": null,
   "metadata": {},
   "outputs": [],
   "source": [
    "#Data pre-processing steps are same as done above as we are applying KNN on the same dataset"
   ]
  },
  {
   "cell_type": "code",
   "execution_count": 25,
   "metadata": {},
   "outputs": [
    {
     "data": {
      "text/plain": [
       "KNeighborsClassifier(algorithm='auto', leaf_size=30, metric='minkowski',\n",
       "                     metric_params=None, n_jobs=None, n_neighbors=5, p=2,\n",
       "                     weights='uniform')"
      ]
     },
     "execution_count": 25,
     "metadata": {},
     "output_type": "execute_result"
    }
   ],
   "source": [
    "# Fitting k-NN to Training set\n",
    "from sklearn.neighbors import KNeighborsClassifier\n",
    "classifier = KNeighborsClassifier(n_neighbors=5, metric='minkowski', p=2) #p=2 means we are using euclidean distance\n",
    "classifier.fit(X_train, Y_train)"
   ]
  },
  {
   "cell_type": "code",
   "execution_count": 27,
   "metadata": {},
   "outputs": [
    {
     "data": {
      "text/plain": [
       "array([0, 0, 0, 0, 0, 0, 0, 1, 0, 1, 0, 0, 0, 0, 0, 1, 0, 0, 1, 0, 0, 1,\n",
       "       0, 1, 0, 1, 0, 0, 0, 0, 0, 0, 1, 0, 0, 0, 0, 0, 0, 1, 0, 0, 0, 0,\n",
       "       1, 0, 0, 1, 0, 1, 1, 0, 0, 1, 1, 1, 0, 0, 1, 0, 0, 1, 0, 1, 0, 1,\n",
       "       0, 0, 0, 0, 1, 0, 0, 1, 0, 0, 0, 0, 1, 1, 1, 1, 0, 0, 1, 0, 0, 1,\n",
       "       1, 0, 0, 1, 0, 0, 0, 0, 0, 1, 1, 1], dtype=int64)"
      ]
     },
     "execution_count": 27,
     "metadata": {},
     "output_type": "execute_result"
    }
   ],
   "source": [
    "# Predicting Test set results\n",
    "Y_pred = classifier.predict(X_test)\n",
    "Y_pred"
   ]
  },
  {
   "cell_type": "code",
   "execution_count": 45,
   "metadata": {},
   "outputs": [],
   "source": [
    "from sklearn.metrics import roc_curve\n",
    "from sklearn.metrics import roc_auc_score\n",
    "def plot_roc_curve(fpr, tpr):\n",
    "    plt.plot(fpr, tpr, color='orange', label='ROC')\n",
    "    plt.plot([0, 1], [0, 1], color='darkblue', linestyle='--')\n",
    "    plt.xlabel('False Positive Rate')\n",
    "    plt.ylabel('True Positive Rate')\n",
    "    plt.title('Receiver Operating Characteristic (ROC) Curve')\n",
    "    plt.legend()\n",
    "    plt.show()"
   ]
  },
  {
   "cell_type": "code",
   "execution_count": 28,
   "metadata": {},
   "outputs": [
    {
     "data": {
      "text/plain": [
       "array([[1. , 0. ],\n",
       "       [1. , 0. ],\n",
       "       [1. , 0. ],\n",
       "       [1. , 0. ],\n",
       "       [1. , 0. ],\n",
       "       [1. , 0. ],\n",
       "       [1. , 0. ],\n",
       "       [0. , 1. ],\n",
       "       [1. , 0. ],\n",
       "       [0.2, 0.8],\n",
       "       [1. , 0. ],\n",
       "       [1. , 0. ],\n",
       "       [1. , 0. ],\n",
       "       [0.8, 0.2],\n",
       "       [1. , 0. ],\n",
       "       [0.4, 0.6],\n",
       "       [0.8, 0.2],\n",
       "       [1. , 0. ],\n",
       "       [0.2, 0.8],\n",
       "       [1. , 0. ],\n",
       "       [1. , 0. ],\n",
       "       [0.2, 0.8],\n",
       "       [1. , 0. ],\n",
       "       [0.2, 0.8],\n",
       "       [1. , 0. ],\n",
       "       [0.4, 0.6],\n",
       "       [1. , 0. ],\n",
       "       [1. , 0. ],\n",
       "       [1. , 0. ],\n",
       "       [1. , 0. ],\n",
       "       [1. , 0. ],\n",
       "       [0.8, 0.2],\n",
       "       [0. , 1. ],\n",
       "       [1. , 0. ],\n",
       "       [1. , 0. ],\n",
       "       [1. , 0. ],\n",
       "       [1. , 0. ],\n",
       "       [1. , 0. ],\n",
       "       [1. , 0. ],\n",
       "       [0. , 1. ],\n",
       "       [1. , 0. ],\n",
       "       [1. , 0. ],\n",
       "       [1. , 0. ],\n",
       "       [1. , 0. ],\n",
       "       [0. , 1. ],\n",
       "       [1. , 0. ],\n",
       "       [0.8, 0.2],\n",
       "       [0. , 1. ],\n",
       "       [1. , 0. ],\n",
       "       [0. , 1. ],\n",
       "       [0. , 1. ],\n",
       "       [1. , 0. ],\n",
       "       [1. , 0. ],\n",
       "       [0.4, 0.6],\n",
       "       [0. , 1. ],\n",
       "       [0. , 1. ],\n",
       "       [1. , 0. ],\n",
       "       [1. , 0. ],\n",
       "       [0. , 1. ],\n",
       "       [1. , 0. ],\n",
       "       [1. , 0. ],\n",
       "       [0.2, 0.8],\n",
       "       [1. , 0. ],\n",
       "       [0.2, 0.8],\n",
       "       [1. , 0. ],\n",
       "       [0. , 1. ],\n",
       "       [1. , 0. ],\n",
       "       [1. , 0. ],\n",
       "       [1. , 0. ],\n",
       "       [0.8, 0.2],\n",
       "       [0. , 1. ],\n",
       "       [1. , 0. ],\n",
       "       [1. , 0. ],\n",
       "       [0.2, 0.8],\n",
       "       [1. , 0. ],\n",
       "       [1. , 0. ],\n",
       "       [0.8, 0.2],\n",
       "       [1. , 0. ],\n",
       "       [0. , 1. ],\n",
       "       [0.2, 0.8],\n",
       "       [0. , 1. ],\n",
       "       [0. , 1. ],\n",
       "       [1. , 0. ],\n",
       "       [1. , 0. ],\n",
       "       [0.2, 0.8],\n",
       "       [0.8, 0.2],\n",
       "       [0.8, 0.2],\n",
       "       [0. , 1. ],\n",
       "       [0.4, 0.6],\n",
       "       [1. , 0. ],\n",
       "       [1. , 0. ],\n",
       "       [0. , 1. ],\n",
       "       [1. , 0. ],\n",
       "       [1. , 0. ],\n",
       "       [1. , 0. ],\n",
       "       [1. , 0. ],\n",
       "       [1. , 0. ],\n",
       "       [0. , 1. ],\n",
       "       [0. , 1. ],\n",
       "       [0. , 1. ]])"
      ]
     },
     "execution_count": 28,
     "metadata": {},
     "output_type": "execute_result"
    }
   ],
   "source": [
    "var_prob = classifier.predict_proba(X_test)\n",
    "var_prob"
   ]
  },
  {
   "cell_type": "code",
   "execution_count": 48,
   "metadata": {},
   "outputs": [
    {
     "name": "stdout",
     "output_type": "stream",
     "text": [
      "AUC: 0.96\n"
     ]
    }
   ],
   "source": [
    "var_prob1 = var_prob[:, 1]\n",
    "auc = roc_auc_score(Y_test,var_prob1)\n",
    "print('AUC: %.2f' % auc)"
   ]
  },
  {
   "cell_type": "markdown",
   "metadata": {},
   "source": [
    "UC-ROC curve is one of the most commonly used metrics to evaluate the performance of machine learning algorithms particularly in the cases where we have imbalanced datasets."
   ]
  },
  {
   "cell_type": "code",
   "execution_count": 50,
   "metadata": {},
   "outputs": [
    {
     "data": {
      "image/png": "[encoded data removed]",
      "text/plain": [
       "<Figure size 432x288 with 1 Axes>"
      ]
     },
     "metadata": {
      "needs_background": "light"
     },
     "output_type": "display_data"
    }
   ],
   "source": [
    "fpr, tpr, thresholds = roc_curve(Y_test, var_prob1)\n",
    "plot_roc_curve(fpr, tpr)"
   ]
  },
  {
   "cell_type": "code",
   "execution_count": 29,
   "metadata": {},
   "outputs": [
    {
     "data": {
      "text/plain": [
       "array([1., 0.])"
      ]
     },
     "execution_count": 29,
     "metadata": {},
     "output_type": "execute_result"
    }
   ],
   "source": [
    "var_prob[0, :]"
   ]
  },
  {
   "cell_type": "code",
   "execution_count": 30,
   "metadata": {},
   "outputs": [
    {
     "name": "stdout",
     "output_type": "stream",
     "text": [
      "[[64  4]\n",
      " [ 3 29]]\n"
     ]
    }
   ],
   "source": [
    "# Confusion Matrix\n",
    "from sklearn.metrics import confusion_matrix\n",
    "cm = confusion_matrix(Y_test, Y_pred)\n",
    "print(cm)"
   ]
  },
  {
   "cell_type": "code",
   "execution_count": 31,
   "metadata": {},
   "outputs": [],
   "source": [
    "tn, fp, fn, tp = confusion_matrix(Y_test, Y_pred).ravel()"
   ]
  },
  {
   "cell_type": "code",
   "execution_count": 32,
   "metadata": {},
   "outputs": [
    {
     "data": {
      "text/plain": [
       "(64, 4, 3, 29)"
      ]
     },
     "execution_count": 32,
     "metadata": {},
     "output_type": "execute_result"
    }
   ],
   "source": [
    "(tn, fp, fn, tp)"
   ]
  },
  {
   "cell_type": "markdown",
   "metadata": {},
   "source": [
    "# Support Machine Vector"
   ]
  },
  {
   "cell_type": "code",
   "execution_count": null,
   "metadata": {},
   "outputs": [],
   "source": [
    "#Data pre-processing steps are same as done above as we are applying KNN on the same dataset"
   ]
  },
  {
   "cell_type": "code",
   "execution_count": 53,
   "metadata": {},
   "outputs": [
    {
     "data": {
      "text/plain": [
       "array([0, 0, 0, 0, 0, 0, 0, 1, 0, 0, 0, 0, 0, 0, 0, 0, 0, 0, 1, 0, 0, 1,\n",
       "       0, 1, 0, 1, 0, 0, 0, 0, 0, 0, 1, 0, 0, 0, 0, 0, 0, 1, 0, 0, 0, 0,\n",
       "       1, 0, 0, 1, 0, 1, 1, 0, 0, 0, 1, 0, 0, 0, 0, 0, 0, 1, 0, 0, 0, 1,\n",
       "       0, 0, 0, 0, 1, 0, 0, 0, 0, 0, 1, 0, 1, 1, 1, 1, 0, 0, 1, 1, 0, 1,\n",
       "       0, 0, 0, 1, 0, 0, 0, 0, 0, 0, 1, 1], dtype=int64)"
      ]
     },
     "execution_count": 53,
     "metadata": {},
     "output_type": "execute_result"
    }
   ],
   "source": [
    "# Fitting SVM to Training set\n",
    "from sklearn.svm import SVC\n",
    "classifier = SVC(kernel='linear',probability=True, random_state=0) # linear kernel is used when data is linearly separable\n",
    "classifier.fit(X_train, Y_train)\n",
    "\n",
    "# Predicting Test set results\n",
    "Y_pred = classifier.predict(X_test)\n",
    "Y_pred"
   ]
  },
  {
   "cell_type": "code",
   "execution_count": 37,
   "metadata": {},
   "outputs": [
    {
     "data": {
      "text/plain": [
       "array([[66,  2],\n",
       "       [ 8, 24]], dtype=int64)"
      ]
     },
     "execution_count": 37,
     "metadata": {},
     "output_type": "execute_result"
    }
   ],
   "source": [
    "# Confusion Matrix\n",
    "from sklearn.metrics import confusion_matrix\n",
    "cm = confusion_matrix(Y_test, Y_pred)\n",
    "cm"
   ]
  },
  {
   "cell_type": "code",
   "execution_count": 54,
   "metadata": {},
   "outputs": [
    {
     "data": {
      "text/plain": [
       "array([[0.8791296 , 0.1208704 ],\n",
       "       [0.8439461 , 0.1560539 ],\n",
       "       [0.80084143, 0.19915857],\n",
       "       [0.90697199, 0.09302801],\n",
       "       [0.90946968, 0.09053032],\n",
       "       [0.99363888, 0.00636112],\n",
       "       [0.98791111, 0.01208889],\n",
       "       [0.2071604 , 0.7928396 ],\n",
       "       [0.99424335, 0.00575665],\n",
       "       [0.52158417, 0.47841583],\n",
       "       [0.96599899, 0.03400101],\n",
       "       [0.97192263, 0.02807737],\n",
       "       [0.84699105, 0.15300895],\n",
       "       [0.6195891 , 0.3804109 ],\n",
       "       [0.98320203, 0.01679797],\n",
       "       [0.61501844, 0.38498156],\n",
       "       [0.71206926, 0.28793074],\n",
       "       [0.98681972, 0.01318028],\n",
       "       [0.00856522, 0.99143478],\n",
       "       [0.96451167, 0.03548833],\n",
       "       [0.91811831, 0.08188169],\n",
       "       [0.02625805, 0.97374195],\n",
       "       [0.7372989 , 0.2627011 ],\n",
       "       [0.10101049, 0.89898951],\n",
       "       [0.9962655 , 0.0037345 ],\n",
       "       [0.01953215, 0.98046785],\n",
       "       [0.91660387, 0.08339613],\n",
       "       [0.92034298, 0.07965702],\n",
       "       [0.81073945, 0.18926055],\n",
       "       [0.83313057, 0.16686943],\n",
       "       [0.9778033 , 0.0221967 ],\n",
       "       [0.6968212 , 0.3031788 ],\n",
       "       [0.06900046, 0.93099954],\n",
       "       [0.85624461, 0.14375539],\n",
       "       [0.98623774, 0.01376226],\n",
       "       [0.99679576, 0.00320424],\n",
       "       [0.97888001, 0.02111999],\n",
       "       [0.93839666, 0.06160334],\n",
       "       [0.97580666, 0.02419334],\n",
       "       [0.48248395, 0.51751605],\n",
       "       [0.92869928, 0.07130072],\n",
       "       [0.73014375, 0.26985625],\n",
       "       [0.9378114 , 0.0621886 ],\n",
       "       [0.96699273, 0.03300727],\n",
       "       [0.1658116 , 0.8341884 ],\n",
       "       [0.97449064, 0.02550936],\n",
       "       [0.68902854, 0.31097146],\n",
       "       [0.06484777, 0.93515223],\n",
       "       [0.99253708, 0.00746292],\n",
       "       [0.12981301, 0.87018699],\n",
       "       [0.00760518, 0.99239482],\n",
       "       [0.96774588, 0.03225412],\n",
       "       [0.88602884, 0.11397116],\n",
       "       [0.53319441, 0.46680559],\n",
       "       [0.01730842, 0.98269158],\n",
       "       [0.71138623, 0.28861377],\n",
       "       [0.91190678, 0.08809322],\n",
       "       [0.95386058, 0.04613942],\n",
       "       [0.5554314 , 0.4445686 ],\n",
       "       [0.99721388, 0.00278612],\n",
       "       [0.98342369, 0.01657631],\n",
       "       [0.07160928, 0.92839072],\n",
       "       [0.99051696, 0.00948304],\n",
       "       [0.57572907, 0.42427093],\n",
       "       [0.99848001, 0.00151999],\n",
       "       [0.01691658, 0.98308342],\n",
       "       [0.95748485, 0.04251515],\n",
       "       [0.97449064, 0.02550936],\n",
       "       [0.79977727, 0.20022273],\n",
       "       [0.53236657, 0.46763343],\n",
       "       [0.32388112, 0.67611888],\n",
       "       [0.78890086, 0.21109914],\n",
       "       [0.98905886, 0.01094114],\n",
       "       [0.78046375, 0.21953625],\n",
       "       [0.92623571, 0.07376429],\n",
       "       [0.99038993, 0.00961007],\n",
       "       [0.45012745, 0.54987255],\n",
       "       [0.71275145, 0.28724855],\n",
       "       [0.30522074, 0.69477926],\n",
       "       [0.09454704, 0.90545296],\n",
       "       [0.00277752, 0.99722248],\n",
       "       [0.02071291, 0.97928709],\n",
       "       [0.98766753, 0.01233247],\n",
       "       [0.99103839, 0.00896161],\n",
       "       [0.11892052, 0.88107948],\n",
       "       [0.44102831, 0.55897169],\n",
       "       [0.58851587, 0.41148413],\n",
       "       [0.00376923, 0.99623077],\n",
       "       [0.59010127, 0.40989873],\n",
       "       [0.66543592, 0.33456408],\n",
       "       [0.58613227, 0.41386773],\n",
       "       [0.16489048, 0.83510952],\n",
       "       [0.99223304, 0.00776696],\n",
       "       [0.99322365, 0.00677635],\n",
       "       [0.96451165, 0.03548835],\n",
       "       [0.90669067, 0.09330933],\n",
       "       [0.98655422, 0.01344578],\n",
       "       [0.56114862, 0.43885138],\n",
       "       [0.13675016, 0.86324984],\n",
       "       [0.24683156, 0.75316844]])"
      ]
     },
     "execution_count": 54,
     "metadata": {},
     "output_type": "execute_result"
    }
   ],
   "source": [
    "var_prob = classifier.predict_proba(X_test)\n",
    "var_prob"
   ]
  },
  {
   "cell_type": "code",
   "execution_count": null,
   "metadata": {},
   "outputs": [],
   "source": [
    "# var_prob2 = var_prob[:, 1]\n",
    "auc = roc_auc_score(Y_test,var_prob2)\n",
    "print('AUC: %.2f' % auc)"
   ]
  },
  {
   "cell_type": "markdown",
   "metadata": {},
   "source": [
    "# Naive Bayes "
   ]
  },
  {
   "cell_type": "code",
   "execution_count": 61,
   "metadata": {},
   "outputs": [
    {
     "data": {
      "text/plain": [
       "array([[65,  3],\n",
       "       [ 7, 25]], dtype=int64)"
      ]
     },
     "execution_count": 61,
     "metadata": {},
     "output_type": "execute_result"
    }
   ],
   "source": [
    "# Fitting Naive Bayes Algorithm to Training set\n",
    "from sklearn.naive_bayes import GaussianNB\n",
    "classifier = GaussianNB()\n",
    "classifier.fit(X_train, Y_train)\n",
    "\n",
    "# Predicting Test set results\n",
    "Y_pred = classifier.predict(X_test)\n",
    "\n",
    "# Confusion Matrix\n",
    "from sklearn.metrics import confusion_matrix\n",
    "cm = confusion_matrix(Y_test, Y_pred)\n",
    "cm"
   ]
  },
  {
   "cell_type": "markdown",
   "metadata": {},
   "source": [
    "# Decision Tree"
   ]
  },
  {
   "cell_type": "code",
   "execution_count": 66,
   "metadata": {},
   "outputs": [
    {
     "data": {
      "text/plain": [
       "array([[62,  6],\n",
       "       [ 3, 29]], dtype=int64)"
      ]
     },
     "execution_count": 66,
     "metadata": {},
     "output_type": "execute_result"
    }
   ],
   "source": [
    "#Feature scaling not required\n",
    "# Fitting Decision Tree to Training set\n",
    "from sklearn.tree import DecisionTreeClassifier\n",
    "classifier = DecisionTreeClassifier(criterion='entropy', random_state=0)\n",
    "classifier.fit(X_train, Y_train)\n",
    "\n",
    "# Predicting Test set results\n",
    "Y_pred = classifier.predict(X_test)\n",
    "\n",
    "# Confusion Matrix\n",
    "from sklearn.metrics import confusion_matrix\n",
    "cm = confusion_matrix(Y_test, Y_pred)\n",
    "cm"
   ]
  },
  {
   "cell_type": "code",
   "execution_count": 67,
   "metadata": {},
   "outputs": [],
   "source": [
    "from sklearn import tree"
   ]
  },
  {
   "cell_type": "code",
   "execution_count": 68,
   "metadata": {},
   "outputs": [
    {
     "data": {
      "text/plain": [
       "[Text(166.32692307692307, 209.07692307692307, 'X[0] <= 44.5\\nentropy = 0.951\\nsamples = 300\\nvalue = [189, 111]'),\n",
       " Text(87.99230769230769, 192.35076923076923, 'X[1] <= 90500.0\\nentropy = 0.693\\nsamples = 215\\nvalue = [175, 40]'),\n",
       " Text(38.63076923076923, 175.62461538461537, 'X[0] <= 36.5\\nentropy = 0.241\\nsamples = 176\\nvalue = [169, 7]'),\n",
       " Text(30.046153846153846, 158.89846153846153, 'entropy = 0.0\\nsamples = 114\\nvalue = [114, 0]'),\n",
       " Text(47.215384615384615, 158.89846153846153, 'X[1] <= 67500.0\\nentropy = 0.509\\nsamples = 62\\nvalue = [55, 7]'),\n",
       " Text(38.63076923076923, 142.1723076923077, 'entropy = 0.0\\nsamples = 31\\nvalue = [31, 0]'),\n",
       " Text(55.8, 142.1723076923077, 'X[1] <= 83500.0\\nentropy = 0.771\\nsamples = 31\\nvalue = [24, 7]'),\n",
       " Text(47.215384615384615, 125.44615384615385, 'X[1] <= 70500.0\\nentropy = 0.663\\nsamples = 29\\nvalue = [24, 5]'),\n",
       " Text(38.63076923076923, 108.72, 'entropy = 0.0\\nsamples = 1\\nvalue = [0, 1]'),\n",
       " Text(55.8, 108.72, 'X[1] <= 78500.0\\nentropy = 0.592\\nsamples = 28\\nvalue = [24, 4]'),\n",
       " Text(47.215384615384615, 91.99384615384615, 'X[1] <= 72500.0\\nentropy = 0.684\\nsamples = 22\\nvalue = [18, 4]'),\n",
       " Text(17.16923076923077, 75.2676923076923, 'X[0] <= 39.5\\nentropy = 0.391\\nsamples = 13\\nvalue = [12, 1]'),\n",
       " Text(8.584615384615384, 58.541538461538465, 'entropy = 0.0\\nsamples = 6\\nvalue = [6, 0]'),\n",
       " Text(25.753846153846155, 58.541538461538465, 'X[1] <= 71500.0\\nentropy = 0.592\\nsamples = 7\\nvalue = [6, 1]'),\n",
       " Text(17.16923076923077, 41.81538461538463, 'X[0] <= 40.5\\nentropy = 1.0\\nsamples = 2\\nvalue = [1, 1]'),\n",
       " Text(8.584615384615384, 25.089230769230767, 'entropy = 0.0\\nsamples = 1\\nvalue = [0, 1]'),\n",
       " Text(25.753846153846155, 25.089230769230767, 'entropy = 0.0\\nsamples = 1\\nvalue = [1, 0]'),\n",
       " Text(34.33846153846154, 41.81538461538463, 'entropy = 0.0\\nsamples = 5\\nvalue = [5, 0]'),\n",
       " Text(77.26153846153846, 75.2676923076923, 'X[1] <= 73500.0\\nentropy = 0.918\\nsamples = 9\\nvalue = [6, 3]'),\n",
       " Text(60.09230769230769, 58.541538461538465, 'X[0] <= 40.5\\nentropy = 1.0\\nsamples = 2\\nvalue = [1, 1]'),\n",
       " Text(51.50769230769231, 41.81538461538463, 'entropy = 0.0\\nsamples = 1\\nvalue = [1, 0]'),\n",
       " Text(68.67692307692307, 41.81538461538463, 'entropy = 0.0\\nsamples = 1\\nvalue = [0, 1]'),\n",
       " Text(94.43076923076923, 58.541538461538465, 'X[0] <= 39.5\\nentropy = 0.863\\nsamples = 7\\nvalue = [5, 2]'),\n",
       " Text(85.84615384615384, 41.81538461538463, 'X[0] <= 38.0\\nentropy = 1.0\\nsamples = 4\\nvalue = [2, 2]'),\n",
       " Text(77.26153846153846, 25.089230769230767, 'X[1] <= 76500.0\\nentropy = 0.918\\nsamples = 3\\nvalue = [2, 1]'),\n",
       " Text(68.67692307692307, 8.363076923076932, 'entropy = 0.0\\nsamples = 2\\nvalue = [2, 0]'),\n",
       " Text(85.84615384615384, 8.363076923076932, 'entropy = 0.0\\nsamples = 1\\nvalue = [0, 1]'),\n",
       " Text(94.43076923076923, 25.089230769230767, 'entropy = 0.0\\nsamples = 1\\nvalue = [0, 1]'),\n",
       " Text(103.01538461538462, 41.81538461538463, 'entropy = 0.0\\nsamples = 3\\nvalue = [3, 0]'),\n",
       " Text(64.38461538461539, 91.99384615384615, 'entropy = 0.0\\nsamples = 6\\nvalue = [6, 0]'),\n",
       " Text(64.38461538461539, 125.44615384615385, 'entropy = 0.0\\nsamples = 2\\nvalue = [0, 2]'),\n",
       " Text(137.35384615384615, 175.62461538461537, 'X[1] <= 133500.0\\nentropy = 0.619\\nsamples = 39\\nvalue = [6, 33]'),\n",
       " Text(128.76923076923077, 158.89846153846153, 'X[1] <= 107500.0\\nentropy = 0.779\\nsamples = 26\\nvalue = [6, 20]'),\n",
       " Text(120.18461538461538, 142.1723076923077, 'entropy = 0.0\\nsamples = 8\\nvalue = [0, 8]'),\n",
       " Text(137.35384615384615, 142.1723076923077, 'X[1] <= 116500.0\\nentropy = 0.918\\nsamples = 18\\nvalue = [6, 12]'),\n",
       " Text(111.6, 125.44615384615385, 'X[0] <= 33.5\\nentropy = 0.985\\nsamples = 7\\nvalue = [4, 3]'),\n",
       " Text(103.01538461538462, 108.72, 'entropy = 0.0\\nsamples = 2\\nvalue = [2, 0]'),\n",
       " Text(120.18461538461538, 108.72, 'X[1] <= 112500.0\\nentropy = 0.971\\nsamples = 5\\nvalue = [2, 3]'),\n",
       " Text(111.6, 91.99384615384615, 'X[0] <= 34.5\\nentropy = 1.0\\nsamples = 4\\nvalue = [2, 2]'),\n",
       " Text(103.01538461538462, 75.2676923076923, 'entropy = 0.0\\nsamples = 1\\nvalue = [0, 1]'),\n",
       " Text(120.18461538461538, 75.2676923076923, 'X[0] <= 40.0\\nentropy = 0.918\\nsamples = 3\\nvalue = [2, 1]'),\n",
       " Text(111.6, 58.541538461538465, 'entropy = 0.0\\nsamples = 2\\nvalue = [2, 0]'),\n",
       " Text(128.76923076923077, 58.541538461538465, 'entropy = 0.0\\nsamples = 1\\nvalue = [0, 1]'),\n",
       " Text(128.76923076923077, 91.99384615384615, 'entropy = 0.0\\nsamples = 1\\nvalue = [0, 1]'),\n",
       " Text(163.1076923076923, 125.44615384615385, 'X[1] <= 131000.0\\nentropy = 0.684\\nsamples = 11\\nvalue = [2, 9]'),\n",
       " Text(154.52307692307693, 108.72, 'X[0] <= 27.0\\nentropy = 0.469\\nsamples = 10\\nvalue = [1, 9]'),\n",
       " Text(145.93846153846152, 91.99384615384615, 'entropy = 0.0\\nsamples = 1\\nvalue = [1, 0]'),\n",
       " Text(163.1076923076923, 91.99384615384615, 'entropy = 0.0\\nsamples = 9\\nvalue = [0, 9]'),\n",
       " Text(171.69230769230768, 108.72, 'entropy = 0.0\\nsamples = 1\\nvalue = [1, 0]'),\n",
       " Text(145.93846153846152, 158.89846153846153, 'entropy = 0.0\\nsamples = 13\\nvalue = [0, 13]'),\n",
       " Text(244.66153846153844, 192.35076923076923, 'X[1] <= 41500.0\\nentropy = 0.645\\nsamples = 85\\nvalue = [14, 71]'),\n",
       " Text(206.03076923076924, 175.62461538461537, 'X[1] <= 22500.0\\nentropy = 0.211\\nsamples = 30\\nvalue = [1, 29]'),\n",
       " Text(197.44615384615383, 158.89846153846153, 'X[0] <= 46.5\\nentropy = 0.722\\nsamples = 5\\nvalue = [1, 4]'),\n",
       " Text(188.86153846153846, 142.1723076923077, 'X[0] <= 45.5\\nentropy = 1.0\\nsamples = 2\\nvalue = [1, 1]'),\n",
       " Text(180.27692307692308, 125.44615384615385, 'entropy = 0.0\\nsamples = 1\\nvalue = [0, 1]'),\n",
       " Text(197.44615384615383, 125.44615384615385, 'entropy = 0.0\\nsamples = 1\\nvalue = [1, 0]'),\n",
       " Text(206.03076923076924, 142.1723076923077, 'entropy = 0.0\\nsamples = 3\\nvalue = [0, 3]'),\n",
       " Text(214.6153846153846, 158.89846153846153, 'entropy = 0.0\\nsamples = 25\\nvalue = [0, 25]'),\n",
       " Text(283.2923076923077, 175.62461538461537, 'X[0] <= 52.5\\nentropy = 0.789\\nsamples = 55\\nvalue = [13, 42]'),\n",
       " Text(248.95384615384614, 158.89846153846153, 'X[1] <= 85000.0\\nentropy = 0.946\\nsamples = 33\\nvalue = [12, 21]'),\n",
       " Text(223.2, 142.1723076923077, 'X[0] <= 48.5\\nentropy = 0.985\\nsamples = 14\\nvalue = [8, 6]'),\n",
       " Text(214.6153846153846, 125.44615384615385, 'X[0] <= 46.5\\nentropy = 0.994\\nsamples = 11\\nvalue = [5, 6]'),\n",
       " Text(197.44615384615383, 108.72, 'X[1] <= 52000.0\\nentropy = 0.918\\nsamples = 6\\nvalue = [4, 2]'),\n",
       " Text(188.86153846153846, 91.99384615384615, 'entropy = 0.0\\nsamples = 1\\nvalue = [0, 1]'),\n",
       " Text(206.03076923076924, 91.99384615384615, 'X[1] <= 76500.0\\nentropy = 0.722\\nsamples = 5\\nvalue = [4, 1]'),\n",
       " Text(197.44615384615383, 75.2676923076923, 'entropy = 0.0\\nsamples = 2\\nvalue = [2, 0]'),\n",
       " Text(214.6153846153846, 75.2676923076923, 'X[0] <= 45.5\\nentropy = 0.918\\nsamples = 3\\nvalue = [2, 1]'),\n",
       " Text(206.03076923076924, 58.541538461538465, 'entropy = 0.0\\nsamples = 1\\nvalue = [1, 0]'),\n",
       " Text(223.2, 58.541538461538465, 'X[1] <= 80500.0\\nentropy = 1.0\\nsamples = 2\\nvalue = [1, 1]'),\n",
       " Text(214.6153846153846, 41.81538461538463, 'entropy = 0.0\\nsamples = 1\\nvalue = [0, 1]'),\n",
       " Text(231.78461538461536, 41.81538461538463, 'entropy = 0.0\\nsamples = 1\\nvalue = [1, 0]'),\n",
       " Text(231.78461538461536, 108.72, 'X[1] <= 48000.0\\nentropy = 0.722\\nsamples = 5\\nvalue = [1, 4]'),\n",
       " Text(223.2, 91.99384615384615, 'entropy = 0.0\\nsamples = 1\\nvalue = [1, 0]'),\n",
       " Text(240.36923076923077, 91.99384615384615, 'entropy = 0.0\\nsamples = 4\\nvalue = [0, 4]'),\n",
       " Text(231.78461538461536, 125.44615384615385, 'entropy = 0.0\\nsamples = 3\\nvalue = [3, 0]'),\n",
       " Text(274.7076923076923, 142.1723076923077, 'X[1] <= 92500.0\\nentropy = 0.742\\nsamples = 19\\nvalue = [4, 15]'),\n",
       " Text(266.1230769230769, 125.44615384615385, 'entropy = 0.0\\nsamples = 4\\nvalue = [0, 4]'),\n",
       " Text(283.2923076923077, 125.44615384615385, 'X[1] <= 115500.0\\nentropy = 0.837\\nsamples = 15\\nvalue = [4, 11]'),\n",
       " Text(266.1230769230769, 108.72, 'X[0] <= 46.5\\nentropy = 1.0\\nsamples = 4\\nvalue = [2, 2]'),\n",
       " Text(257.53846153846155, 91.99384615384615, 'entropy = 0.0\\nsamples = 1\\nvalue = [1, 0]'),\n",
       " Text(274.7076923076923, 91.99384615384615, 'X[0] <= 50.0\\nentropy = 0.918\\nsamples = 3\\nvalue = [1, 2]'),\n",
       " Text(266.1230769230769, 75.2676923076923, 'entropy = 0.0\\nsamples = 2\\nvalue = [0, 2]'),\n",
       " Text(283.2923076923077, 75.2676923076923, 'entropy = 0.0\\nsamples = 1\\nvalue = [1, 0]'),\n",
       " Text(300.46153846153845, 108.72, 'X[1] <= 132500.0\\nentropy = 0.684\\nsamples = 11\\nvalue = [2, 9]'),\n",
       " Text(291.87692307692305, 91.99384615384615, 'entropy = 0.0\\nsamples = 4\\nvalue = [0, 4]'),\n",
       " Text(309.04615384615386, 91.99384615384615, 'X[1] <= 143500.0\\nentropy = 0.863\\nsamples = 7\\nvalue = [2, 5]'),\n",
       " Text(300.46153846153845, 75.2676923076923, 'X[1] <= 139500.0\\nentropy = 0.971\\nsamples = 5\\nvalue = [2, 3]'),\n",
       " Text(291.87692307692305, 58.541538461538465, 'X[1] <= 136000.0\\nentropy = 0.811\\nsamples = 4\\nvalue = [1, 3]'),\n",
       " Text(283.2923076923077, 41.81538461538463, 'X[0] <= 49.5\\nentropy = 1.0\\nsamples = 2\\nvalue = [1, 1]'),\n",
       " Text(274.7076923076923, 25.089230769230767, 'entropy = 0.0\\nsamples = 1\\nvalue = [0, 1]'),\n",
       " Text(291.87692307692305, 25.089230769230767, 'entropy = 0.0\\nsamples = 1\\nvalue = [1, 0]'),\n",
       " Text(300.46153846153845, 41.81538461538463, 'entropy = 0.0\\nsamples = 2\\nvalue = [0, 2]'),\n",
       " Text(309.04615384615386, 58.541538461538465, 'entropy = 0.0\\nsamples = 1\\nvalue = [1, 0]'),\n",
       " Text(317.6307692307692, 75.2676923076923, 'entropy = 0.0\\nsamples = 2\\nvalue = [0, 2]'),\n",
       " Text(317.6307692307692, 158.89846153846153, 'X[1] <= 44000.0\\nentropy = 0.267\\nsamples = 22\\nvalue = [1, 21]'),\n",
       " Text(309.04615384615386, 142.1723076923077, 'X[0] <= 59.5\\nentropy = 1.0\\nsamples = 2\\nvalue = [1, 1]'),\n",
       " Text(300.46153846153845, 125.44615384615385, 'entropy = 0.0\\nsamples = 1\\nvalue = [1, 0]'),\n",
       " Text(317.6307692307692, 125.44615384615385, 'entropy = 0.0\\nsamples = 1\\nvalue = [0, 1]'),\n",
       " Text(326.2153846153846, 142.1723076923077, 'entropy = 0.0\\nsamples = 20\\nvalue = [0, 20]')]"
      ]
     },
     "execution_count": 68,
     "metadata": {},
     "output_type": "execute_result"
    },
    {
     "data": {
      "image/png": "[encoded data removed]",
      "text/plain": [
       "<Figure size 432x288 with 1 Axes>"
      ]
     },
     "metadata": {
      "needs_background": "light"
     },
     "output_type": "display_data"
    }
   ],
   "source": [
    "tree.plot_tree(classifier)"
   ]
  },
  {
   "cell_type": "code",
   "execution_count": 71,
   "metadata": {},
   "outputs": [
    {
     "name": "stdout",
     "output_type": "stream",
     "text": [
      "Accuracy: 0.91\n"
     ]
    }
   ],
   "source": [
    "from sklearn import metrics #Import scikit-learn metrics module for accuracy calculation\n",
    "print(\"Accuracy:\",metrics.accuracy_score(Y_test, Y_pred))"
   ]
  },
  {
   "cell_type": "markdown",
   "metadata": {},
   "source": [
    "# Random Forest"
   ]
  },
  {
   "cell_type": "code",
   "execution_count": 90,
   "metadata": {},
   "outputs": [
    {
     "data": {
      "text/plain": [
       "array([[63,  5],\n",
       "       [ 3, 29]], dtype=int64)"
      ]
     },
     "execution_count": 90,
     "metadata": {},
     "output_type": "execute_result"
    }
   ],
   "source": [
    "# Fitting Random Forest Classification to Training set\n",
    "from sklearn.ensemble import RandomForestClassifier\n",
    "classifier  = RandomForestClassifier(n_estimators=10, criterion='entropy', random_state=0)\n",
    "classifier.fit(X_train, Y_train)\n",
    "\n",
    "# Predicting Test set results\n",
    "Y_pred = classifier.predict(X_test)\n",
    "\n",
    "# Confusion Matrix\n",
    "from sklearn.metrics import confusion_matrix\n",
    "cm = confusion_matrix(Y_test, Y_pred)\n",
    "cm"
   ]
  }
 ],
 "metadata": {
  "kernelspec": {
   "display_name": "Python 3",
   "language": "python",
   "name": "python3"
  },
  "language_info": {
   "codemirror_mode": {
    "name": "ipython",
    "version": 3
   },
   "file_extension": ".py",
   "mimetype": "text/x-python",
   "name": "python",
   "nbconvert_exporter": "python",
   "pygments_lexer": "ipython3",
   "version": "3.7.3"
  }
 },
 "nbformat": 4,
 "nbformat_minor": 2
}
